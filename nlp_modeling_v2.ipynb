{
 "cells": [
  {
   "cell_type": "code",
   "execution_count": 10,
   "metadata": {},
   "outputs": [],
   "source": [
    "import pandas as pd\n",
    "import numpy as np\n",
    "\n",
    "import matplotlib.pyplot as plt\n",
    "import matplotlib\n",
    "import seaborn as sns\n",
    "\n",
    "import xgboost as xgb\n",
    "sns.set_style('darkgrid')\n",
    "\n",
    "font = {'size': 18}\n",
    "matplotlib.rc('font', **font)"
   ]
  },
  {
   "cell_type": "code",
   "execution_count": 2,
   "metadata": {},
   "outputs": [],
   "source": [
    "df = pd.read_pickle(\"data/train.pkl\")\n",
    "df['viral'] = df['score'] >= 50"
   ]
  },
  {
   "cell_type": "code",
   "execution_count": 145,
   "metadata": {},
   "outputs": [
    {
     "data": {
      "text/html": [
       "<div>\n",
       "<style scoped>\n",
       "    .dataframe tbody tr th:only-of-type {\n",
       "        vertical-align: middle;\n",
       "    }\n",
       "\n",
       "    .dataframe tbody tr th {\n",
       "        vertical-align: top;\n",
       "    }\n",
       "\n",
       "    .dataframe thead th {\n",
       "        text-align: right;\n",
       "    }\n",
       "</style>\n",
       "<table border=\"1\" class=\"dataframe\">\n",
       "  <thead>\n",
       "    <tr style=\"text-align: right;\">\n",
       "      <th></th>\n",
       "      <th>id</th>\n",
       "      <th>author</th>\n",
       "      <th>title</th>\n",
       "      <th>selftext</th>\n",
       "      <th>time</th>\n",
       "      <th>date</th>\n",
       "      <th>score</th>\n",
       "      <th>num_comments</th>\n",
       "      <th>viral</th>\n",
       "    </tr>\n",
       "  </thead>\n",
       "  <tbody>\n",
       "    <tr>\n",
       "      <th>54442</th>\n",
       "      <td>n97ehm</td>\n",
       "      <td>weremanthing</td>\n",
       "      <td>Refinance my home to free up VA loan or wait?</td>\n",
       "      <td>First let me say thank you for looking at my p...</td>\n",
       "      <td>11:20:52</td>\n",
       "      <td>2021-05-10</td>\n",
       "      <td>1</td>\n",
       "      <td>2</td>\n",
       "      <td>False</td>\n",
       "    </tr>\n",
       "    <tr>\n",
       "      <th>41531</th>\n",
       "      <td>nzf89i</td>\n",
       "      <td>b1ackcat</td>\n",
       "      <td>Thank you for being such a great resource; you...</td>\n",
       "      <td>[removed]</td>\n",
       "      <td>01:08:32</td>\n",
       "      <td>2021-06-14</td>\n",
       "      <td>1</td>\n",
       "      <td>2</td>\n",
       "      <td>False</td>\n",
       "    </tr>\n",
       "    <tr>\n",
       "      <th>61126</th>\n",
       "      <td>mxntnt</td>\n",
       "      <td>runnerup</td>\n",
       "      <td>401k vs 457b, not sure which to max first</td>\n",
       "      <td>My work has both the 401k and 457b plans. They...</td>\n",
       "      <td>12:50:32</td>\n",
       "      <td>2021-04-24</td>\n",
       "      <td>3</td>\n",
       "      <td>7</td>\n",
       "      <td>False</td>\n",
       "    </tr>\n",
       "    <tr>\n",
       "      <th>87222</th>\n",
       "      <td>lg8t6y</td>\n",
       "      <td>Bunburier</td>\n",
       "      <td>Student Loans, Interest Rate, and Payment Stra...</td>\n",
       "      <td>I'll be attending graduate school soon. Tuitio...</td>\n",
       "      <td>12:44:56</td>\n",
       "      <td>2021-02-09</td>\n",
       "      <td>2</td>\n",
       "      <td>2</td>\n",
       "      <td>False</td>\n",
       "    </tr>\n",
       "    <tr>\n",
       "      <th>34549</th>\n",
       "      <td>obzx08</td>\n",
       "      <td>Mxnchkinz_</td>\n",
       "      <td>What do I put under Gross Income when applying...</td>\n",
       "      <td>I'm applying for a Discover Secured Credit Car...</td>\n",
       "      <td>21:27:28</td>\n",
       "      <td>2021-07-01</td>\n",
       "      <td>0</td>\n",
       "      <td>15</td>\n",
       "      <td>False</td>\n",
       "    </tr>\n",
       "  </tbody>\n",
       "</table>\n",
       "</div>"
      ],
      "text/plain": [
       "           id        author  \\\n",
       "54442  n97ehm  weremanthing   \n",
       "41531  nzf89i      b1ackcat   \n",
       "61126  mxntnt      runnerup   \n",
       "87222  lg8t6y     Bunburier   \n",
       "34549  obzx08    Mxnchkinz_   \n",
       "\n",
       "                                                   title  \\\n",
       "54442      Refinance my home to free up VA loan or wait?   \n",
       "41531  Thank you for being such a great resource; you...   \n",
       "61126          401k vs 457b, not sure which to max first   \n",
       "87222  Student Loans, Interest Rate, and Payment Stra...   \n",
       "34549  What do I put under Gross Income when applying...   \n",
       "\n",
       "                                                selftext      time  \\\n",
       "54442  First let me say thank you for looking at my p...  11:20:52   \n",
       "41531                                          [removed]  01:08:32   \n",
       "61126  My work has both the 401k and 457b plans. They...  12:50:32   \n",
       "87222  I'll be attending graduate school soon. Tuitio...  12:44:56   \n",
       "34549  I'm applying for a Discover Secured Credit Car...  21:27:28   \n",
       "\n",
       "             date  score  num_comments  viral  \n",
       "54442  2021-05-10      1             2  False  \n",
       "41531  2021-06-14      1             2  False  \n",
       "61126  2021-04-24      3             7  False  \n",
       "87222  2021-02-09      2             2  False  \n",
       "34549  2021-07-01      0            15  False  "
      ]
     },
     "execution_count": 145,
     "metadata": {},
     "output_type": "execute_result"
    }
   ],
   "source": [
    "df.head()"
   ]
  },
  {
   "cell_type": "code",
   "execution_count": 198,
   "metadata": {},
   "outputs": [
    {
     "data": {
      "text/plain": [
       "124941"
      ]
     },
     "execution_count": 198,
     "metadata": {},
     "output_type": "execute_result"
    }
   ],
   "source": [
    "len(df)"
   ]
  },
  {
   "cell_type": "markdown",
   "metadata": {},
   "source": [
    "Following the [tutorial](https://towardsdatascience.com/using-word2vec-to-analyze-news-headlines-and-predict-article-success-cdeda5f14751) from Towards Data Science by Charlene Chambliss called \"Using word2vec to Analyze News Headlines and Predict Article Success\""
   ]
  },
  {
   "cell_type": "markdown",
   "metadata": {},
   "source": [
    "## Creating word vectors"
   ]
  },
  {
   "cell_type": "code",
   "execution_count": 184,
   "metadata": {
    "scrolled": true
   },
   "outputs": [],
   "source": [
    "# Grab all the titles\n",
    "post_titles = df['title']\n",
    "\n",
    "# Create a list of strings, one for each title\n",
    "titles_list = [title for title in post_titles]\n",
    "\n",
    "# Collapse the list of strings into a single long string for processing\n",
    "big_title_string = ' '.join(titles_list)\n",
    "\n",
    "from nltk.tokenize import word_tokenize\n",
    "\n",
    "# Tokenize the string into words\n",
    "tokens = word_tokenize(big_title_string) # had to run \"import nltk & nltk.download('punkt')\" before this worked\n",
    "\n",
    "# Remve non-alphabetic tokens, such as punctuation\n",
    "words = [word.lower() for word in tokens if word.isalpha()] # takes several seconds"
   ]
  },
  {
   "cell_type": "code",
   "execution_count": 29,
   "metadata": {},
   "outputs": [
    {
     "data": {
      "text/plain": [
       "['refinance',\n",
       " 'home',\n",
       " 'free',\n",
       " 'va',\n",
       " 'loan',\n",
       " 'wait',\n",
       " 'thank',\n",
       " 'great',\n",
       " 'resource',\n",
       " 'saved']"
      ]
     },
     "execution_count": 29,
     "metadata": {},
     "output_type": "execute_result"
    }
   ],
   "source": [
    "# Filter out stopwords\n",
    "from nltk.corpus import stopwords\n",
    "stop_words = set(stopwords.words('english')) # had to run \"import nltk & nltk.download('stopwords')\" before this worked\n",
    "\n",
    "words = [word for word in words if not word in stop_words]\n",
    "\n",
    "# Print first 10 words\n",
    "words[:10]"
   ]
  },
  {
   "cell_type": "markdown",
   "metadata": {},
   "source": [
    "Loading in a pre-trained word2vec model.\n",
    "\n",
    "First, load and unzip the Googlenews vectors negative300 bin by entering the following into the command line:\n",
    "wget -c \"https://s3.amazonaws.com/dl4j-distribution/GoogleNews-vectors-negative300.bin.gz\"\n",
    "gzip -d GoogleNews-vectors-negative300.bin.gz\n",
    "\n",
    "The above takes around 20 minutes, as the file is 3.4 GB. "
   ]
  },
  {
   "cell_type": "code",
   "execution_count": 35,
   "metadata": {},
   "outputs": [],
   "source": [
    "import gensim\n",
    "model = gensim.models.KeyedVectors.load_word2vec_format('GoogleNews-vectors-negative300.bin', binary = True) "
   ]
  },
  {
   "cell_type": "markdown",
   "metadata": {},
   "source": [
    "The above started at 12:42pm, and was still running at 12:57pm. It finished by 1:34pm (after a walk outside). So, the above takes between 15 and 52 minutes. Will be timing subsequent methods."
   ]
  },
  {
   "cell_type": "code",
   "execution_count": 36,
   "metadata": {},
   "outputs": [
    {
     "data": {
      "text/plain": [
       "array([ 0.18847656, -0.0703125 , -0.16113281,  0.03857422, -0.04956055,\n",
       "       -0.23046875, -0.15722656, -0.16992188,  0.17089844, -0.01208496,\n",
       "       -0.16015625, -0.02770996,  0.05932617,  0.00491333, -0.13769531,\n",
       "        0.39257812,  0.06201172,  0.30859375,  0.12890625, -0.07373047],\n",
       "      dtype=float32)"
      ]
     },
     "execution_count": 36,
     "metadata": {},
     "output_type": "execute_result"
    }
   ],
   "source": [
    "economy_vec = model['economy']\n",
    "economy_vec[:20]"
   ]
  },
  {
   "cell_type": "code",
   "execution_count": 39,
   "metadata": {},
   "outputs": [
    {
     "name": "stdout",
     "output_type": "stream",
     "text": [
      "Took 793.31 seconds\n"
     ]
    }
   ],
   "source": [
    "import time\n",
    "tic = time.perf_counter()\n",
    "# Filter the list of vectors to include only those that Word2Vec has a vector for\n",
    "vector_list = [model[word] for word in words if word in model.index_to_key]\n",
    "toc = time.perf_counter()\n",
    "print(f\"Took {toc - tic:0.2f} seconds\")"
   ]
  },
  {
   "cell_type": "code",
   "execution_count": 44,
   "metadata": {},
   "outputs": [],
   "source": [
    "word2vecwords = model.index_to_key # contains 3 million words\n",
    "tic = time.perf_counter()\n",
    "# Filter the list of vectors to include only those that Word2Vec has a vector for\n",
    "words_filtered = [word for word in words if word in word2vecwords]\n",
    "toc = time.perf_counter()\n",
    "print(f\"Took {toc - tic:0.2f} seconds\")"
   ]
  },
  {
   "cell_type": "code",
   "execution_count": 45,
   "metadata": {},
   "outputs": [],
   "source": [
    "# Zip the words together with their vector representations\n",
    "word_vec_zip = zip(words_filtered, vector_list)"
   ]
  },
  {
   "cell_type": "code",
   "execution_count": 46,
   "metadata": {},
   "outputs": [],
   "source": [
    "# Cast to a dict so we can turn it into a data frame\n",
    "word_vec_dict = dict(word_vec_zip)\n",
    "word_vec_df = pd.DataFrame.from_dict(word_vec_dict, orient='index') # 15105 rows and 300 columns\n"
   ]
  },
  {
   "cell_type": "code",
   "execution_count": 47,
   "metadata": {},
   "outputs": [
    {
     "data": {
      "text/html": [
       "<div>\n",
       "<style scoped>\n",
       "    .dataframe tbody tr th:only-of-type {\n",
       "        vertical-align: middle;\n",
       "    }\n",
       "\n",
       "    .dataframe tbody tr th {\n",
       "        vertical-align: top;\n",
       "    }\n",
       "\n",
       "    .dataframe thead th {\n",
       "        text-align: right;\n",
       "    }\n",
       "</style>\n",
       "<table border=\"1\" class=\"dataframe\">\n",
       "  <thead>\n",
       "    <tr style=\"text-align: right;\">\n",
       "      <th></th>\n",
       "      <th>0</th>\n",
       "      <th>1</th>\n",
       "      <th>2</th>\n",
       "      <th>3</th>\n",
       "      <th>4</th>\n",
       "      <th>5</th>\n",
       "      <th>6</th>\n",
       "      <th>7</th>\n",
       "      <th>8</th>\n",
       "      <th>9</th>\n",
       "      <th>...</th>\n",
       "      <th>290</th>\n",
       "      <th>291</th>\n",
       "      <th>292</th>\n",
       "      <th>293</th>\n",
       "      <th>294</th>\n",
       "      <th>295</th>\n",
       "      <th>296</th>\n",
       "      <th>297</th>\n",
       "      <th>298</th>\n",
       "      <th>299</th>\n",
       "    </tr>\n",
       "  </thead>\n",
       "  <tbody>\n",
       "    <tr>\n",
       "      <th>refinance</th>\n",
       "      <td>0.116211</td>\n",
       "      <td>-0.086914</td>\n",
       "      <td>-0.050781</td>\n",
       "      <td>0.022217</td>\n",
       "      <td>0.143555</td>\n",
       "      <td>-0.030151</td>\n",
       "      <td>0.316406</td>\n",
       "      <td>0.245117</td>\n",
       "      <td>0.542969</td>\n",
       "      <td>-0.033203</td>\n",
       "      <td>...</td>\n",
       "      <td>-0.277344</td>\n",
       "      <td>0.750000</td>\n",
       "      <td>-0.550781</td>\n",
       "      <td>-0.042969</td>\n",
       "      <td>0.141602</td>\n",
       "      <td>0.345703</td>\n",
       "      <td>0.058838</td>\n",
       "      <td>0.310547</td>\n",
       "      <td>-0.087402</td>\n",
       "      <td>-0.253906</td>\n",
       "    </tr>\n",
       "    <tr>\n",
       "      <th>home</th>\n",
       "      <td>-0.011841</td>\n",
       "      <td>0.079590</td>\n",
       "      <td>0.016846</td>\n",
       "      <td>-0.089844</td>\n",
       "      <td>0.086426</td>\n",
       "      <td>0.024170</td>\n",
       "      <td>0.025513</td>\n",
       "      <td>-0.189453</td>\n",
       "      <td>0.141602</td>\n",
       "      <td>0.084473</td>\n",
       "      <td>...</td>\n",
       "      <td>-0.195312</td>\n",
       "      <td>0.039307</td>\n",
       "      <td>-0.109863</td>\n",
       "      <td>0.007507</td>\n",
       "      <td>0.058838</td>\n",
       "      <td>-0.052002</td>\n",
       "      <td>-0.029907</td>\n",
       "      <td>-0.136719</td>\n",
       "      <td>0.153320</td>\n",
       "      <td>-0.007935</td>\n",
       "    </tr>\n",
       "    <tr>\n",
       "      <th>free</th>\n",
       "      <td>0.157227</td>\n",
       "      <td>-0.072754</td>\n",
       "      <td>-0.027710</td>\n",
       "      <td>0.202148</td>\n",
       "      <td>-0.004517</td>\n",
       "      <td>0.094238</td>\n",
       "      <td>0.053955</td>\n",
       "      <td>0.006012</td>\n",
       "      <td>0.098145</td>\n",
       "      <td>0.174805</td>\n",
       "      <td>...</td>\n",
       "      <td>0.033936</td>\n",
       "      <td>-0.078613</td>\n",
       "      <td>-0.044434</td>\n",
       "      <td>-0.060547</td>\n",
       "      <td>0.106934</td>\n",
       "      <td>0.062256</td>\n",
       "      <td>0.006500</td>\n",
       "      <td>-0.169922</td>\n",
       "      <td>-0.001717</td>\n",
       "      <td>-0.052002</td>\n",
       "    </tr>\n",
       "    <tr>\n",
       "      <th>va</th>\n",
       "      <td>-0.120117</td>\n",
       "      <td>0.076172</td>\n",
       "      <td>0.320312</td>\n",
       "      <td>0.000912</td>\n",
       "      <td>0.138672</td>\n",
       "      <td>0.218750</td>\n",
       "      <td>0.100098</td>\n",
       "      <td>-0.107422</td>\n",
       "      <td>-0.185547</td>\n",
       "      <td>0.263672</td>\n",
       "      <td>...</td>\n",
       "      <td>0.033691</td>\n",
       "      <td>0.173828</td>\n",
       "      <td>-0.069336</td>\n",
       "      <td>0.097656</td>\n",
       "      <td>0.202148</td>\n",
       "      <td>-0.169922</td>\n",
       "      <td>-0.031494</td>\n",
       "      <td>-0.119141</td>\n",
       "      <td>0.047363</td>\n",
       "      <td>0.079590</td>\n",
       "    </tr>\n",
       "    <tr>\n",
       "      <th>loan</th>\n",
       "      <td>0.058838</td>\n",
       "      <td>0.357422</td>\n",
       "      <td>0.128906</td>\n",
       "      <td>-0.162109</td>\n",
       "      <td>0.291016</td>\n",
       "      <td>-0.040527</td>\n",
       "      <td>0.359375</td>\n",
       "      <td>-0.056396</td>\n",
       "      <td>0.326172</td>\n",
       "      <td>-0.080078</td>\n",
       "      <td>...</td>\n",
       "      <td>-0.363281</td>\n",
       "      <td>0.425781</td>\n",
       "      <td>-0.427734</td>\n",
       "      <td>-0.155273</td>\n",
       "      <td>0.128906</td>\n",
       "      <td>0.118652</td>\n",
       "      <td>-0.054688</td>\n",
       "      <td>0.145508</td>\n",
       "      <td>-0.093750</td>\n",
       "      <td>-0.226562</td>\n",
       "    </tr>\n",
       "  </tbody>\n",
       "</table>\n",
       "<p>5 rows × 300 columns</p>\n",
       "</div>"
      ],
      "text/plain": [
       "                0         1         2         3         4         5    \\\n",
       "refinance  0.116211 -0.086914 -0.050781  0.022217  0.143555 -0.030151   \n",
       "home      -0.011841  0.079590  0.016846 -0.089844  0.086426  0.024170   \n",
       "free       0.157227 -0.072754 -0.027710  0.202148 -0.004517  0.094238   \n",
       "va        -0.120117  0.076172  0.320312  0.000912  0.138672  0.218750   \n",
       "loan       0.058838  0.357422  0.128906 -0.162109  0.291016 -0.040527   \n",
       "\n",
       "                6         7         8         9    ...       290       291  \\\n",
       "refinance  0.316406  0.245117  0.542969 -0.033203  ... -0.277344  0.750000   \n",
       "home       0.025513 -0.189453  0.141602  0.084473  ... -0.195312  0.039307   \n",
       "free       0.053955  0.006012  0.098145  0.174805  ...  0.033936 -0.078613   \n",
       "va         0.100098 -0.107422 -0.185547  0.263672  ...  0.033691  0.173828   \n",
       "loan       0.359375 -0.056396  0.326172 -0.080078  ... -0.363281  0.425781   \n",
       "\n",
       "                292       293       294       295       296       297  \\\n",
       "refinance -0.550781 -0.042969  0.141602  0.345703  0.058838  0.310547   \n",
       "home      -0.109863  0.007507  0.058838 -0.052002 -0.029907 -0.136719   \n",
       "free      -0.044434 -0.060547  0.106934  0.062256  0.006500 -0.169922   \n",
       "va        -0.069336  0.097656  0.202148 -0.169922 -0.031494 -0.119141   \n",
       "loan      -0.427734 -0.155273  0.128906  0.118652 -0.054688  0.145508   \n",
       "\n",
       "                298       299  \n",
       "refinance -0.087402 -0.253906  \n",
       "home       0.153320 -0.007935  \n",
       "free      -0.001717 -0.052002  \n",
       "va         0.047363  0.079590  \n",
       "loan      -0.093750 -0.226562  \n",
       "\n",
       "[5 rows x 300 columns]"
      ]
     },
     "execution_count": 47,
     "metadata": {},
     "output_type": "execute_result"
    }
   ],
   "source": [
    "word_vec_df.head()"
   ]
  },
  {
   "cell_type": "code",
   "execution_count": 48,
   "metadata": {},
   "outputs": [],
   "source": [
    "# save resulting data frame\n",
    "word_vec_df.to_pickle(\"./data/word_vec_train.pkl\")"
   ]
  },
  {
   "cell_type": "markdown",
   "metadata": {},
   "source": [
    "## Dimensionality reduction"
   ]
  },
  {
   "cell_type": "code",
   "execution_count": 50,
   "metadata": {},
   "outputs": [],
   "source": [
    "from sklearn.manifold import TSNE\n",
    "\n",
    "# Initialize t-SNE\n",
    "tsne = TSNE(n_components = 2, init = 'random', random_state = 10, perplexity = 100)\n",
    "\n",
    "# Use only 400 rows to shorten processing time\n",
    "tsne_df = tsne.fit_transform(word_vec_df[:400]) "
   ]
  },
  {
   "cell_type": "code",
   "execution_count": 1,
   "metadata": {},
   "outputs": [
    {
     "ename": "NameError",
     "evalue": "name 'sns' is not defined",
     "output_type": "error",
     "traceback": [
      "\u001b[0;31m---------------------------------------------------------------------------\u001b[0m",
      "\u001b[0;31mNameError\u001b[0m                                 Traceback (most recent call last)",
      "\u001b[0;32m<ipython-input-1-385f2c371c88>\u001b[0m in \u001b[0;36m<module>\u001b[0;34m()\u001b[0m\n\u001b[0;32m----> 1\u001b[0;31m \u001b[0msns\u001b[0m\u001b[0;34m.\u001b[0m\u001b[0mset\u001b[0m\u001b[0;34m(\u001b[0m\u001b[0;34m)\u001b[0m\u001b[0;34m\u001b[0m\u001b[0m\n\u001b[0m\u001b[1;32m      2\u001b[0m \u001b[0;34m\u001b[0m\u001b[0m\n\u001b[1;32m      3\u001b[0m \u001b[0mfig\u001b[0m\u001b[0;34m,\u001b[0m \u001b[0max\u001b[0m \u001b[0;34m=\u001b[0m \u001b[0mplt\u001b[0m\u001b[0;34m.\u001b[0m\u001b[0msubplots\u001b[0m\u001b[0;34m(\u001b[0m\u001b[0mfigsize\u001b[0m\u001b[0;34m=\u001b[0m\u001b[0;34m(\u001b[0m\u001b[0;36m11.7\u001b[0m\u001b[0;34m,\u001b[0m\u001b[0;36m8\u001b[0m\u001b[0;34m)\u001b[0m\u001b[0;34m)\u001b[0m\u001b[0;34m\u001b[0m\u001b[0m\n\u001b[1;32m      4\u001b[0m \u001b[0msns\u001b[0m\u001b[0;34m.\u001b[0m\u001b[0mscatterplot\u001b[0m\u001b[0;34m(\u001b[0m\u001b[0mtsne_df\u001b[0m\u001b[0;34m[\u001b[0m\u001b[0;34m:\u001b[0m\u001b[0;34m,\u001b[0m \u001b[0;36m0\u001b[0m\u001b[0;34m]\u001b[0m\u001b[0;34m,\u001b[0m \u001b[0mtsne_df\u001b[0m\u001b[0;34m[\u001b[0m\u001b[0;34m:\u001b[0m\u001b[0;34m,\u001b[0m \u001b[0;36m1\u001b[0m\u001b[0;34m]\u001b[0m\u001b[0;34m,\u001b[0m \u001b[0malpha\u001b[0m \u001b[0;34m=\u001b[0m \u001b[0;36m0.5\u001b[0m\u001b[0;34m)\u001b[0m\u001b[0;34m\u001b[0m\u001b[0m\n\u001b[1;32m      5\u001b[0m \u001b[0;32mfrom\u001b[0m \u001b[0madjustText\u001b[0m \u001b[0;32mimport\u001b[0m \u001b[0madjust_text\u001b[0m\u001b[0;34m\u001b[0m\u001b[0m\n",
      "\u001b[0;31mNameError\u001b[0m: name 'sns' is not defined"
     ]
    }
   ],
   "source": [
    "sns.set()\n",
    "\n",
    "fig, ax = plt.subplots(figsize=(11.7,8))\n",
    "sns.scatterplot(tsne_df[:, 0], tsne_df[:, 1], alpha = 0.5)\n",
    "from adjustText import adjust_text\n",
    "texts = []\n",
    "words_to_plot = list(np.arange(1, 400, 10))\n",
    "\n",
    "# Append words to list\n",
    "for word in words_to_plot:\n",
    "    texts.append(plt.text(tsne_df[word, 0], tsne_df[word,1], word_vec_df.index[word], fontsize=14))\n",
    "adjust_text(texts, force_points = 0.4, force_text = 0.4, \n",
    "        expand_points = (2,1), expand_text = (1,2),\n",
    "        arrowprops = dict(arrowstyle = \"-\", color = 'black', lw = 0.5))\n",
    "plt.show()"
   ]
  },
  {
   "cell_type": "markdown",
   "metadata": {},
   "source": [
    "## Averaging Word Embeddings\n",
    "\n",
    "Now we shall try averaging the embeddings of the word vectors in each document."
   ]
  },
  {
   "cell_type": "code",
   "execution_count": 88,
   "metadata": {},
   "outputs": [],
   "source": [
    "def document_vector(model, doc):\n",
    "    # remove out-of-vocabulary words\n",
    "    doc = [word for word in doc if word in model.index_to_key]\n",
    "    return np.mean([model[word] for word in doc], axis=0) # return average of word embeddings for the document\n",
    "    \n",
    "# Earlier preprocessing was done when we were only dealing with word vectors. \n",
    "# Here, we need each document to remain a document\n",
    "def preprocess(text):\n",
    "    text = text.lower()\n",
    "    doc = word_tokenize(text)\n",
    "    doc = [word for word in doc if word not in stop_words]\n",
    "    doc = [word for word in doc if word.isalpha()]\n",
    "    return doc\n",
    "\n",
    "# Function that will help us drop documents that have no word vectors in word2vec\n",
    "def has_vector_representation(word2vec_model, doc):\n",
    "    \"\"\"check if at least one word of the document is in the word2vec dictionary\"\"\"\n",
    "    return not all(word not in word2vec_model.index_to_key for word in doc)\n",
    "\n",
    "# Filter out documents\n",
    "def filter_docs(corpus, texts, condition_on_doc):\n",
    "    \"\"\"\n",
    "    Filter corpus and texts given the function condition_on_doc which\n",
    "    takes a doc. The document doc is kept if condition_on_doc(doc) is true\n",
    "    \"\"\"\n",
    "    number_of_docs = len(corpus)\n",
    "    if texts is not None:\n",
    "        texts = [text for (text, doc) in zip(texts, corpus) if condition_on_doc(doc)]\n",
    "    \n",
    "    corpus = [doc for doc in corpus if condition_on_doc(doc)]\n",
    "    \n",
    "    print(\"{} docs removed\".format(number_of_docs - len(corpus)))\n",
    "    \n",
    "    return (corpus, texts)"
   ]
  },
  {
   "cell_type": "markdown",
   "metadata": {},
   "source": [
    "Now running the processing:"
   ]
  },
  {
   "cell_type": "code",
   "execution_count": 185,
   "metadata": {},
   "outputs": [
    {
     "name": "stdout",
     "output_type": "stream",
     "text": [
      "Took 27.47 seconds\n"
     ]
    }
   ],
   "source": [
    "# Preprocess the corpus (takes 30 seconds)\n",
    "tic = time.perf_counter()\n",
    "corpus = [preprocess(title) for title in titles_list]\n",
    "toc = time.perf_counter()\n",
    "print(f\"Took {toc - tic:0.2f} seconds\")"
   ]
  },
  {
   "cell_type": "code",
   "execution_count": 186,
   "metadata": {},
   "outputs": [
    {
     "name": "stdout",
     "output_type": "stream",
     "text": [
      "412 docs removed\n",
      "Took 353.69 seconds\n"
     ]
    }
   ],
   "source": [
    "# Remove docs that don't include any words in W2V's vocab (takes around 350 seconds)\n",
    "tic = time.perf_counter()\n",
    "corpus, titles_list = filter_docs(corpus, titles_list, lambda doc: has_vector_representation(model, doc))\n",
    "toc = time.perf_counter()\n",
    "print(f\"Took {toc - tic:0.2f} seconds\")"
   ]
  },
  {
   "cell_type": "code",
   "execution_count": 187,
   "metadata": {},
   "outputs": [
    {
     "name": "stdout",
     "output_type": "stream",
     "text": [
      "0 docs removed\n",
      "Took 0.30 seconds\n"
     ]
    }
   ],
   "source": [
    "# Filter out any empty docs\n",
    "tic = time.perf_counter()\n",
    "corpus, titles_list = filter_docs(corpus, titles_list, lambda doc: (len(doc) != 0))\n",
    "toc = time.perf_counter()\n",
    "print(f\"Took {toc - tic:0.2f} seconds\")"
   ]
  },
  {
   "cell_type": "code",
   "execution_count": 188,
   "metadata": {},
   "outputs": [
    {
     "name": "stdout",
     "output_type": "stream",
     "text": [
      "Took 815.81 seconds\n"
     ]
    }
   ],
   "source": [
    "# Compute document vectors for each doc in the corpus (means of word vecs) (takes around 800 seconds)\n",
    "tic = time.perf_counter()\n",
    "x = []\n",
    "for doc in corpus:\n",
    "    x.append(document_vector(model, doc))\n",
    "toc = time.perf_counter()\n",
    "print(f\"Took {toc - tic:0.2f} seconds\")"
   ]
  },
  {
   "cell_type": "code",
   "execution_count": 189,
   "metadata": {},
   "outputs": [],
   "source": [
    "X = np.array(x)"
   ]
  },
  {
   "cell_type": "markdown",
   "metadata": {},
   "source": [
    "## Dimensionality Reduction on Document Vectors"
   ]
  },
  {
   "cell_type": "code",
   "execution_count": 190,
   "metadata": {},
   "outputs": [
    {
     "data": {
      "image/png": "[encoded data removed]",
      "text/plain": [
       "<Figure size 1440x1440 with 1 Axes>"
      ]
     },
     "metadata": {},
     "output_type": "display_data"
    }
   ],
   "source": [
    "# Initialize t-SNE\n",
    "tsne = TSNE(n_components = 2, init = 'random', random_state = 42, perplexity = 100)\n",
    "\n",
    "tsne_df = tsne.fit_transform(X[:400])\n",
    "\n",
    "fig, ax = plt.subplots(figsize = (20, 20))\n",
    "\n",
    "sns.scatterplot(tsne_df[:, 0], tsne_df[:, 1], alpha = 0.5)\n",
    "\n",
    "texts = []\n",
    "titles_to_plot = list(np.arange(2, 400, 40)) # plots every 40th title in first 400 titles\n",
    "\n",
    "# Append words to list\n",
    "for title in titles_to_plot:\n",
    "    texts.append(plt.text(tsne_df[title, 0], tsne_df[title, 1], titles_list[title], fontsize=14))\n",
    "    \n",
    "# Plot text using adjust_text\n",
    "adjust_text(texts, force_points = 0.4, force_text = 0.4, \n",
    "            expand_points = (2,1), expand_text = (1,2),\n",
    "            arrowprops = dict(arrowstyle = \"-\", color = 'black', lw = 0.5))\n",
    "\n",
    "plt.show()"
   ]
  },
  {
   "cell_type": "markdown",
   "metadata": {},
   "source": [
    "Save the data frame of the 300-dimension document vectors with the corresponding titles"
   ]
  },
  {
   "cell_type": "code",
   "execution_count": 191,
   "metadata": {},
   "outputs": [],
   "source": [
    "doc_vec_df = pd.DataFrame(X)"
   ]
  },
  {
   "cell_type": "code",
   "execution_count": 192,
   "metadata": {},
   "outputs": [],
   "source": [
    "doc_vec_df['title'] = titles_list"
   ]
  },
  {
   "cell_type": "code",
   "execution_count": 193,
   "metadata": {},
   "outputs": [],
   "source": [
    "doc_vec_df.to_pickle(\"./data/doc_vec_train.pkl\")"
   ]
  },
  {
   "cell_type": "markdown",
   "metadata": {},
   "source": [
    "## Model Construction\n",
    "\n",
    "Reduce the dimension of the document vectors to 15 using PCA"
   ]
  },
  {
   "cell_type": "code",
   "execution_count": 194,
   "metadata": {},
   "outputs": [],
   "source": [
    "from sklearn.decomposition import PCA\n",
    "\n",
    "pca = PCA(n_components = 15, random_state=10)\n",
    "\n",
    "reduced_vecs = pca.fit_transform(x)"
   ]
  },
  {
   "cell_type": "code",
   "execution_count": 195,
   "metadata": {},
   "outputs": [],
   "source": [
    "df_w_vectors = pd.DataFrame(reduced_vecs)\n",
    "\n",
    "df_w_vectors['title'] = titles_list"
   ]
  },
  {
   "cell_type": "code",
   "execution_count": 196,
   "metadata": {},
   "outputs": [
    {
     "data": {
      "text/html": [
       "<div>\n",
       "<style scoped>\n",
       "    .dataframe tbody tr th:only-of-type {\n",
       "        vertical-align: middle;\n",
       "    }\n",
       "\n",
       "    .dataframe tbody tr th {\n",
       "        vertical-align: top;\n",
       "    }\n",
       "\n",
       "    .dataframe thead th {\n",
       "        text-align: right;\n",
       "    }\n",
       "</style>\n",
       "<table border=\"1\" class=\"dataframe\">\n",
       "  <thead>\n",
       "    <tr style=\"text-align: right;\">\n",
       "      <th></th>\n",
       "      <th>0</th>\n",
       "      <th>1</th>\n",
       "      <th>2</th>\n",
       "      <th>3</th>\n",
       "      <th>4</th>\n",
       "      <th>5</th>\n",
       "      <th>6</th>\n",
       "      <th>7</th>\n",
       "      <th>8</th>\n",
       "      <th>9</th>\n",
       "      <th>10</th>\n",
       "      <th>11</th>\n",
       "      <th>12</th>\n",
       "      <th>13</th>\n",
       "      <th>14</th>\n",
       "      <th>title</th>\n",
       "    </tr>\n",
       "  </thead>\n",
       "  <tbody>\n",
       "    <tr>\n",
       "      <th>0</th>\n",
       "      <td>0.452326</td>\n",
       "      <td>-0.086981</td>\n",
       "      <td>-0.324988</td>\n",
       "      <td>0.465590</td>\n",
       "      <td>-0.066195</td>\n",
       "      <td>0.153091</td>\n",
       "      <td>0.265473</td>\n",
       "      <td>-0.236472</td>\n",
       "      <td>-0.074479</td>\n",
       "      <td>0.012487</td>\n",
       "      <td>-0.211550</td>\n",
       "      <td>-0.138849</td>\n",
       "      <td>-0.121593</td>\n",
       "      <td>0.031448</td>\n",
       "      <td>-0.058353</td>\n",
       "      <td>Refinance my home to free up VA loan or wait?</td>\n",
       "    </tr>\n",
       "    <tr>\n",
       "      <th>1</th>\n",
       "      <td>-0.330507</td>\n",
       "      <td>-0.260508</td>\n",
       "      <td>0.014901</td>\n",
       "      <td>-0.104928</td>\n",
       "      <td>0.199151</td>\n",
       "      <td>-0.119055</td>\n",
       "      <td>0.179098</td>\n",
       "      <td>-0.125544</td>\n",
       "      <td>0.072447</td>\n",
       "      <td>-0.076675</td>\n",
       "      <td>0.038906</td>\n",
       "      <td>0.045916</td>\n",
       "      <td>-0.039466</td>\n",
       "      <td>0.006943</td>\n",
       "      <td>0.057752</td>\n",
       "      <td>Thank you for being such a great resource; you...</td>\n",
       "    </tr>\n",
       "    <tr>\n",
       "      <th>2</th>\n",
       "      <td>-0.442264</td>\n",
       "      <td>0.236218</td>\n",
       "      <td>-0.431406</td>\n",
       "      <td>0.248370</td>\n",
       "      <td>0.024640</td>\n",
       "      <td>-0.151823</td>\n",
       "      <td>0.247016</td>\n",
       "      <td>-0.373945</td>\n",
       "      <td>-0.026743</td>\n",
       "      <td>-0.093129</td>\n",
       "      <td>-0.213248</td>\n",
       "      <td>0.116387</td>\n",
       "      <td>0.016804</td>\n",
       "      <td>-0.125650</td>\n",
       "      <td>-0.112207</td>\n",
       "      <td>401k vs 457b, not sure which to max first</td>\n",
       "    </tr>\n",
       "    <tr>\n",
       "      <th>3</th>\n",
       "      <td>0.518975</td>\n",
       "      <td>0.057408</td>\n",
       "      <td>-0.083401</td>\n",
       "      <td>-0.112960</td>\n",
       "      <td>0.102538</td>\n",
       "      <td>0.091286</td>\n",
       "      <td>-0.130520</td>\n",
       "      <td>-0.079133</td>\n",
       "      <td>-0.188288</td>\n",
       "      <td>0.125392</td>\n",
       "      <td>-0.044068</td>\n",
       "      <td>-0.141591</td>\n",
       "      <td>0.330608</td>\n",
       "      <td>-0.014323</td>\n",
       "      <td>-0.204374</td>\n",
       "      <td>Student Loans, Interest Rate, and Payment Stra...</td>\n",
       "    </tr>\n",
       "    <tr>\n",
       "      <th>4</th>\n",
       "      <td>0.347334</td>\n",
       "      <td>0.138867</td>\n",
       "      <td>-0.262790</td>\n",
       "      <td>-0.272617</td>\n",
       "      <td>-0.031099</td>\n",
       "      <td>-0.324284</td>\n",
       "      <td>0.063304</td>\n",
       "      <td>0.035924</td>\n",
       "      <td>0.019836</td>\n",
       "      <td>-0.153669</td>\n",
       "      <td>0.081983</td>\n",
       "      <td>0.041749</td>\n",
       "      <td>-0.259511</td>\n",
       "      <td>-0.027447</td>\n",
       "      <td>-0.085711</td>\n",
       "      <td>What do I put under Gross Income when applying...</td>\n",
       "    </tr>\n",
       "  </tbody>\n",
       "</table>\n",
       "</div>"
      ],
      "text/plain": [
       "          0         1         2         3         4         5         6  \\\n",
       "0  0.452326 -0.086981 -0.324988  0.465590 -0.066195  0.153091  0.265473   \n",
       "1 -0.330507 -0.260508  0.014901 -0.104928  0.199151 -0.119055  0.179098   \n",
       "2 -0.442264  0.236218 -0.431406  0.248370  0.024640 -0.151823  0.247016   \n",
       "3  0.518975  0.057408 -0.083401 -0.112960  0.102538  0.091286 -0.130520   \n",
       "4  0.347334  0.138867 -0.262790 -0.272617 -0.031099 -0.324284  0.063304   \n",
       "\n",
       "          7         8         9        10        11        12        13  \\\n",
       "0 -0.236472 -0.074479  0.012487 -0.211550 -0.138849 -0.121593  0.031448   \n",
       "1 -0.125544  0.072447 -0.076675  0.038906  0.045916 -0.039466  0.006943   \n",
       "2 -0.373945 -0.026743 -0.093129 -0.213248  0.116387  0.016804 -0.125650   \n",
       "3 -0.079133 -0.188288  0.125392 -0.044068 -0.141591  0.330608 -0.014323   \n",
       "4  0.035924  0.019836 -0.153669  0.081983  0.041749 -0.259511 -0.027447   \n",
       "\n",
       "         14                                              title  \n",
       "0 -0.058353      Refinance my home to free up VA loan or wait?  \n",
       "1  0.057752  Thank you for being such a great resource; you...  \n",
       "2 -0.112207          401k vs 457b, not sure which to max first  \n",
       "3 -0.204374  Student Loans, Interest Rate, and Payment Stra...  \n",
       "4 -0.085711  What do I put under Gross Income when applying...  "
      ]
     },
     "execution_count": 196,
     "metadata": {},
     "output_type": "execute_result"
    }
   ],
   "source": [
    "df_w_vectors.head()"
   ]
  },
  {
   "cell_type": "code",
   "execution_count": 211,
   "metadata": {},
   "outputs": [
    {
     "data": {
      "text/plain": [
       "124529"
      ]
     },
     "execution_count": 211,
     "metadata": {},
     "output_type": "execute_result"
    }
   ],
   "source": [
    "len(df_w_vectors.title)"
   ]
  },
  {
   "cell_type": "code",
   "execution_count": 210,
   "metadata": {},
   "outputs": [
    {
     "data": {
      "text/plain": [
       "122105"
      ]
     },
     "execution_count": 210,
     "metadata": {},
     "output_type": "execute_result"
    }
   ],
   "source": [
    "len(set(df_w_vectors.title))"
   ]
  },
  {
   "cell_type": "markdown",
   "metadata": {},
   "source": [
    "Add the 15 new features to the original data set"
   ]
  },
  {
   "cell_type": "code",
   "execution_count": 204,
   "metadata": {},
   "outputs": [],
   "source": [
    "main_w_vectors = pd.merge(df, df_w_vectors, on='title')"
   ]
  },
  {
   "cell_type": "code",
   "execution_count": 205,
   "metadata": {},
   "outputs": [],
   "source": [
    "# drop vectors that couldn't be matched with the main_df\n",
    "main_w_vectors.dropna(axis=0, inplace=True)"
   ]
  },
  {
   "cell_type": "code",
   "execution_count": 206,
   "metadata": {},
   "outputs": [
    {
     "data": {
      "text/plain": [
       "132974"
      ]
     },
     "execution_count": 206,
     "metadata": {},
     "output_type": "execute_result"
    }
   ],
   "source": [
    "len(main_w_vectors.index)"
   ]
  },
  {
   "cell_type": "code",
   "execution_count": 182,
   "metadata": {},
   "outputs": [
    {
     "data": {
      "text/html": [
       "<div>\n",
       "<style scoped>\n",
       "    .dataframe tbody tr th:only-of-type {\n",
       "        vertical-align: middle;\n",
       "    }\n",
       "\n",
       "    .dataframe tbody tr th {\n",
       "        vertical-align: top;\n",
       "    }\n",
       "\n",
       "    .dataframe thead th {\n",
       "        text-align: right;\n",
       "    }\n",
       "</style>\n",
       "<table border=\"1\" class=\"dataframe\">\n",
       "  <thead>\n",
       "    <tr style=\"text-align: right;\">\n",
       "      <th></th>\n",
       "      <th>0</th>\n",
       "      <th>1</th>\n",
       "      <th>2</th>\n",
       "      <th>3</th>\n",
       "      <th>4</th>\n",
       "      <th>5</th>\n",
       "      <th>6</th>\n",
       "      <th>7</th>\n",
       "      <th>8</th>\n",
       "      <th>9</th>\n",
       "      <th>...</th>\n",
       "      <th>14</th>\n",
       "      <th>title</th>\n",
       "      <th>id</th>\n",
       "      <th>author</th>\n",
       "      <th>selftext</th>\n",
       "      <th>time</th>\n",
       "      <th>date</th>\n",
       "      <th>score</th>\n",
       "      <th>num_comments</th>\n",
       "      <th>viral</th>\n",
       "    </tr>\n",
       "  </thead>\n",
       "  <tbody>\n",
       "    <tr>\n",
       "      <th>0</th>\n",
       "      <td>0.452326</td>\n",
       "      <td>-0.086981</td>\n",
       "      <td>-0.324988</td>\n",
       "      <td>0.465590</td>\n",
       "      <td>-0.066195</td>\n",
       "      <td>0.153091</td>\n",
       "      <td>0.265473</td>\n",
       "      <td>-0.236472</td>\n",
       "      <td>-0.074479</td>\n",
       "      <td>0.012487</td>\n",
       "      <td>...</td>\n",
       "      <td>-0.058353</td>\n",
       "      <td>Refinance my home to free up VA loan or wait?</td>\n",
       "      <td>n97ehm</td>\n",
       "      <td>weremanthing</td>\n",
       "      <td>First let me say thank you for looking at my p...</td>\n",
       "      <td>11:20:52</td>\n",
       "      <td>2021-05-10</td>\n",
       "      <td>1</td>\n",
       "      <td>2</td>\n",
       "      <td>False</td>\n",
       "    </tr>\n",
       "    <tr>\n",
       "      <th>1</th>\n",
       "      <td>-0.330507</td>\n",
       "      <td>-0.260508</td>\n",
       "      <td>0.014901</td>\n",
       "      <td>-0.104928</td>\n",
       "      <td>0.199151</td>\n",
       "      <td>-0.119055</td>\n",
       "      <td>0.179098</td>\n",
       "      <td>-0.125544</td>\n",
       "      <td>0.072447</td>\n",
       "      <td>-0.076675</td>\n",
       "      <td>...</td>\n",
       "      <td>0.057752</td>\n",
       "      <td>Thank you for being such a great resource; you...</td>\n",
       "      <td>nzf89i</td>\n",
       "      <td>b1ackcat</td>\n",
       "      <td>[removed]</td>\n",
       "      <td>01:08:32</td>\n",
       "      <td>2021-06-14</td>\n",
       "      <td>1</td>\n",
       "      <td>2</td>\n",
       "      <td>False</td>\n",
       "    </tr>\n",
       "    <tr>\n",
       "      <th>2</th>\n",
       "      <td>-0.442264</td>\n",
       "      <td>0.236218</td>\n",
       "      <td>-0.431406</td>\n",
       "      <td>0.248370</td>\n",
       "      <td>0.024640</td>\n",
       "      <td>-0.151823</td>\n",
       "      <td>0.247016</td>\n",
       "      <td>-0.373945</td>\n",
       "      <td>-0.026743</td>\n",
       "      <td>-0.093129</td>\n",
       "      <td>...</td>\n",
       "      <td>-0.112207</td>\n",
       "      <td>401k vs 457b, not sure which to max first</td>\n",
       "      <td>mxntnt</td>\n",
       "      <td>runnerup</td>\n",
       "      <td>My work has both the 401k and 457b plans. They...</td>\n",
       "      <td>12:50:32</td>\n",
       "      <td>2021-04-24</td>\n",
       "      <td>3</td>\n",
       "      <td>7</td>\n",
       "      <td>False</td>\n",
       "    </tr>\n",
       "    <tr>\n",
       "      <th>3</th>\n",
       "      <td>0.518975</td>\n",
       "      <td>0.057408</td>\n",
       "      <td>-0.083401</td>\n",
       "      <td>-0.112960</td>\n",
       "      <td>0.102538</td>\n",
       "      <td>0.091286</td>\n",
       "      <td>-0.130520</td>\n",
       "      <td>-0.079133</td>\n",
       "      <td>-0.188288</td>\n",
       "      <td>0.125392</td>\n",
       "      <td>...</td>\n",
       "      <td>-0.204374</td>\n",
       "      <td>Student Loans, Interest Rate, and Payment Stra...</td>\n",
       "      <td>lg8t6y</td>\n",
       "      <td>Bunburier</td>\n",
       "      <td>I'll be attending graduate school soon. Tuitio...</td>\n",
       "      <td>12:44:56</td>\n",
       "      <td>2021-02-09</td>\n",
       "      <td>2</td>\n",
       "      <td>2</td>\n",
       "      <td>False</td>\n",
       "    </tr>\n",
       "    <tr>\n",
       "      <th>4</th>\n",
       "      <td>0.347334</td>\n",
       "      <td>0.138867</td>\n",
       "      <td>-0.262790</td>\n",
       "      <td>-0.272617</td>\n",
       "      <td>-0.031099</td>\n",
       "      <td>-0.324284</td>\n",
       "      <td>0.063304</td>\n",
       "      <td>0.035924</td>\n",
       "      <td>0.019836</td>\n",
       "      <td>-0.153669</td>\n",
       "      <td>...</td>\n",
       "      <td>-0.085711</td>\n",
       "      <td>What do I put under Gross Income when applying...</td>\n",
       "      <td>obzx08</td>\n",
       "      <td>Mxnchkinz_</td>\n",
       "      <td>I'm applying for a Discover Secured Credit Car...</td>\n",
       "      <td>21:27:28</td>\n",
       "      <td>2021-07-01</td>\n",
       "      <td>0</td>\n",
       "      <td>15</td>\n",
       "      <td>False</td>\n",
       "    </tr>\n",
       "  </tbody>\n",
       "</table>\n",
       "<p>5 rows × 24 columns</p>\n",
       "</div>"
      ],
      "text/plain": [
       "          0         1         2         3         4         5         6  \\\n",
       "0  0.452326 -0.086981 -0.324988  0.465590 -0.066195  0.153091  0.265473   \n",
       "1 -0.330507 -0.260508  0.014901 -0.104928  0.199151 -0.119055  0.179098   \n",
       "2 -0.442264  0.236218 -0.431406  0.248370  0.024640 -0.151823  0.247016   \n",
       "3  0.518975  0.057408 -0.083401 -0.112960  0.102538  0.091286 -0.130520   \n",
       "4  0.347334  0.138867 -0.262790 -0.272617 -0.031099 -0.324284  0.063304   \n",
       "\n",
       "          7         8         9  ...        14  \\\n",
       "0 -0.236472 -0.074479  0.012487  ... -0.058353   \n",
       "1 -0.125544  0.072447 -0.076675  ...  0.057752   \n",
       "2 -0.373945 -0.026743 -0.093129  ... -0.112207   \n",
       "3 -0.079133 -0.188288  0.125392  ... -0.204374   \n",
       "4  0.035924  0.019836 -0.153669  ... -0.085711   \n",
       "\n",
       "                                               title      id        author  \\\n",
       "0      Refinance my home to free up VA loan or wait?  n97ehm  weremanthing   \n",
       "1  Thank you for being such a great resource; you...  nzf89i      b1ackcat   \n",
       "2          401k vs 457b, not sure which to max first  mxntnt      runnerup   \n",
       "3  Student Loans, Interest Rate, and Payment Stra...  lg8t6y     Bunburier   \n",
       "4  What do I put under Gross Income when applying...  obzx08    Mxnchkinz_   \n",
       "\n",
       "                                            selftext      time        date  \\\n",
       "0  First let me say thank you for looking at my p...  11:20:52  2021-05-10   \n",
       "1                                          [removed]  01:08:32  2021-06-14   \n",
       "2  My work has both the 401k and 457b plans. They...  12:50:32  2021-04-24   \n",
       "3  I'll be attending graduate school soon. Tuitio...  12:44:56  2021-02-09   \n",
       "4  I'm applying for a Discover Secured Credit Car...  21:27:28  2021-07-01   \n",
       "\n",
       "  score num_comments  viral  \n",
       "0     1            2  False  \n",
       "1     1            2  False  \n",
       "2     3            7  False  \n",
       "3     2            2  False  \n",
       "4     0           15  False  \n",
       "\n",
       "[5 rows x 24 columns]"
      ]
     },
     "execution_count": 182,
     "metadata": {},
     "output_type": "execute_result"
    }
   ],
   "source": [
    "main_w_vectors.head()"
   ]
  },
  {
   "cell_type": "markdown",
   "metadata": {},
   "source": [
    "We shall also add columns for the day of the week and hour of day."
   ]
  },
  {
   "cell_type": "code",
   "execution_count": 125,
   "metadata": {},
   "outputs": [],
   "source": [
    "main_w_vectors['hour'] = [dt.hour for dt in main_w_vectors['time']]\n",
    "\n",
    "main_w_vectors['weekday'] = [dt.weekday() for dt in main_w_vectors['date']]"
   ]
  },
  {
   "cell_type": "markdown",
   "metadata": {},
   "source": [
    "Extract only the columns with numeric data:"
   ]
  },
  {
   "cell_type": "code",
   "execution_count": null,
   "metadata": {},
   "outputs": [],
   "source": [
    "cols_to_drop = ['title', 'id', 'author', ]"
   ]
  }
 ],
 "metadata": {
  "kernelspec": {
   "display_name": "Python 3",
   "language": "python",
   "name": "python3"
  },
  "language_info": {
   "codemirror_mode": {
    "name": "ipython",
    "version": 3
   },
   "file_extension": ".py",
   "mimetype": "text/x-python",
   "name": "python",
   "nbconvert_exporter": "python",
   "pygments_lexer": "ipython3",
   "version": "3.7.0"
  }
 },
 "nbformat": 4,
 "nbformat_minor": 2
}
