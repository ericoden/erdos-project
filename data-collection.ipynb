{
 "cells": [
  {
   "cell_type": "markdown",
   "metadata": {},
   "source": [
    "## Data Collection\n",
    "\n",
    "We shall use the `psaw` python wrapper (https://github.com/pushshift/api) for the pushshift.io API to collect reddit data. We use the pushshift.io API instead of the reddit API because the latter only allows us to get 1000 posts at a time. "
   ]
  },
  {
   "cell_type": "code",
   "execution_count": 77,
   "metadata": {},
   "outputs": [],
   "source": [
    "from psaw import PushshiftAPI\n",
    "api = PushshiftAPI()"
   ]
  },
  {
   "cell_type": "markdown",
   "metadata": {},
   "source": [
    "`psaw` allows us to search for information about reddit posts (called \"submissions\") from a given subreddit and a given time range. For instance, we can collect the information on all the submissions to the **r/personalfinance** subreddit from October 1, 2020 to October 1, 2021. This takes a little under half an hour."
   ]
  },
  {
   "cell_type": "code",
   "execution_count": 78,
   "metadata": {},
   "outputs": [
    {
     "name": "stdout",
     "output_type": "stream",
     "text": [
      "Downloading submission data...\n"
     ]
    },
    {
     "name": "stderr",
     "output_type": "stream",
     "text": [
      "/home/eric/anaconda3/lib/python3.7/site-packages/psaw/PushshiftAPI.py:252: UserWarning: Not all PushShift shards are active. Query results may be incomplete\n",
      "  warnings.warn(shards_down_message)\n",
      "/home/eric/anaconda3/lib/python3.7/site-packages/psaw/PushshiftAPI.py:192: UserWarning: Got non 200 code 429\n",
      "  warnings.warn(\"Got non 200 code %s\" % response.status_code)\n",
      "/home/eric/anaconda3/lib/python3.7/site-packages/psaw/PushshiftAPI.py:180: UserWarning: Unable to connect to pushshift.io. Retrying after backoff.\n",
      "  warnings.warn(\"Unable to connect to pushshift.io. Retrying after backoff.\")\n"
     ]
    },
    {
     "name": "stdout",
     "output_type": "stream",
     "text": [
      "Downloaded submission data in 1620.18 seconds\n"
     ]
    }
   ],
   "source": [
    "import datetime as dt\n",
    "import time\n",
    "start_epoch = int(dt.datetime(2020, 10, 1).timestamp())\n",
    "end_epoch = int(dt.datetime(2021, 10, 1).timestamp())\n",
    "\n",
    "print(\"Downloading submission data...\")\n",
    "tic = time.perf_counter()\n",
    "subs = list(api.search_submissions(after=start_epoch,\n",
    "                                   before=end_epoch,\n",
    "                                   subreddit='personalfinance',\n",
    "                                   filter = ['id','author', 'title', 'selftext','score', 'num_comments']))\n",
    "toc = time.perf_counter()\n",
    "print(f\"Downloaded submission data in {toc - tic:0.2f} seconds\")"
   ]
  },
  {
   "cell_type": "code",
   "execution_count": 79,
   "metadata": {},
   "outputs": [
    {
     "data": {
      "text/html": [
       "<div>\n",
       "<style scoped>\n",
       "    .dataframe tbody tr th:only-of-type {\n",
       "        vertical-align: middle;\n",
       "    }\n",
       "\n",
       "    .dataframe tbody tr th {\n",
       "        vertical-align: top;\n",
       "    }\n",
       "\n",
       "    .dataframe thead th {\n",
       "        text-align: right;\n",
       "    }\n",
       "</style>\n",
       "<table border=\"1\" class=\"dataframe\">\n",
       "  <thead>\n",
       "    <tr style=\"text-align: right;\">\n",
       "      <th></th>\n",
       "      <th>author</th>\n",
       "      <th>created_utc</th>\n",
       "      <th>id</th>\n",
       "      <th>num_comments</th>\n",
       "      <th>score</th>\n",
       "      <th>selftext</th>\n",
       "      <th>title</th>\n",
       "      <th>created</th>\n",
       "    </tr>\n",
       "  </thead>\n",
       "  <tbody>\n",
       "    <tr>\n",
       "      <th>0</th>\n",
       "      <td>DeadStarMan</td>\n",
       "      <td>1633060765</td>\n",
       "      <td>pz02c1</td>\n",
       "      <td>23</td>\n",
       "      <td>1</td>\n",
       "      <td>I'm getting a 15k cash settlement at age 29. \\...</td>\n",
       "      <td>How should I use my cash settlement?</td>\n",
       "      <td>1.633075e+09</td>\n",
       "    </tr>\n",
       "    <tr>\n",
       "      <th>1</th>\n",
       "      <td>mojo3jojo</td>\n",
       "      <td>1633060323</td>\n",
       "      <td>pyzyav</td>\n",
       "      <td>45</td>\n",
       "      <td>1</td>\n",
       "      <td>I make about $2500 a month. I pay $816 per mon...</td>\n",
       "      <td>Can I afford a $35k car?</td>\n",
       "      <td>1.633075e+09</td>\n",
       "    </tr>\n",
       "    <tr>\n",
       "      <th>2</th>\n",
       "      <td>PolarisSONE</td>\n",
       "      <td>1633060288</td>\n",
       "      <td>pyzy0b</td>\n",
       "      <td>5</td>\n",
       "      <td>1</td>\n",
       "      <td>Hi there, I have a 401K with Fidelity and I've...</td>\n",
       "      <td>Wanting to keep things simple, have a 401K and...</td>\n",
       "      <td>1.633075e+09</td>\n",
       "    </tr>\n",
       "    <tr>\n",
       "      <th>3</th>\n",
       "      <td>CarWreckFiance</td>\n",
       "      <td>1633060269</td>\n",
       "      <td>pyzxv1</td>\n",
       "      <td>3</td>\n",
       "      <td>1</td>\n",
       "      <td>[removed]</td>\n",
       "      <td>Car wreck right before big move</td>\n",
       "      <td>1.633075e+09</td>\n",
       "    </tr>\n",
       "    <tr>\n",
       "      <th>4</th>\n",
       "      <td>watchoutitstaco</td>\n",
       "      <td>1633060017</td>\n",
       "      <td>pyzvna</td>\n",
       "      <td>9</td>\n",
       "      <td>1</td>\n",
       "      <td>Hello pals!\\n\\n&amp;amp;#x200B;\\n\\nI'd like to hel...</td>\n",
       "      <td>How to pay off loans for my partner (is there ...</td>\n",
       "      <td>1.633074e+09</td>\n",
       "    </tr>\n",
       "  </tbody>\n",
       "</table>\n",
       "</div>"
      ],
      "text/plain": [
       "            author  created_utc      id  num_comments  score  \\\n",
       "0      DeadStarMan   1633060765  pz02c1            23      1   \n",
       "1        mojo3jojo   1633060323  pyzyav            45      1   \n",
       "2      PolarisSONE   1633060288  pyzy0b             5      1   \n",
       "3   CarWreckFiance   1633060269  pyzxv1             3      1   \n",
       "4  watchoutitstaco   1633060017  pyzvna             9      1   \n",
       "\n",
       "                                            selftext  \\\n",
       "0  I'm getting a 15k cash settlement at age 29. \\...   \n",
       "1  I make about $2500 a month. I pay $816 per mon...   \n",
       "2  Hi there, I have a 401K with Fidelity and I've...   \n",
       "3                                          [removed]   \n",
       "4  Hello pals!\\n\\n&amp;#x200B;\\n\\nI'd like to hel...   \n",
       "\n",
       "                                               title       created  \n",
       "0               How should I use my cash settlement?  1.633075e+09  \n",
       "1                           Can I afford a $35k car?  1.633075e+09  \n",
       "2  Wanting to keep things simple, have a 401K and...  1.633075e+09  \n",
       "3                    Car wreck right before big move  1.633075e+09  \n",
       "4  How to pay off loans for my partner (is there ...  1.633074e+09  "
      ]
     },
     "execution_count": 79,
     "metadata": {},
     "output_type": "execute_result"
    }
   ],
   "source": [
    "import pandas as pd\n",
    "df = pd.DataFrame([thing.d_ for thing in subs])\n",
    "df.head()"
   ]
  },
  {
   "cell_type": "code",
   "execution_count": 179,
   "metadata": {},
   "outputs": [
    {
     "data": {
      "text/plain": [
       "138823"
      ]
     },
     "execution_count": 179,
     "metadata": {},
     "output_type": "execute_result"
    }
   ],
   "source": [
    "len(df.index)"
   ]
  },
  {
   "cell_type": "markdown",
   "metadata": {},
   "source": [
    "Unfortunately, the reddit data available via the pushshift.io API seems to record the \"score\" (the number of upvotes - downvotes) of a post fairly quickly after the post is uploaded, and then doesn't update it. Thus, we need to correct the scores for each entry. We can use the `praw` wrapper (https://praw.readthedocs.io/en/stable/) for the regular Reddit API to accomplish this. This takes about 45 minutes."
   ]
  },
  {
   "cell_type": "code",
   "execution_count": 80,
   "metadata": {},
   "outputs": [],
   "source": [
    "import praw\n",
    "reddit = praw.Reddit(client_id = \"\", # Enter credentials here\n",
    "                client_secret = \"\", # and here\n",
    "                user_agent='')\n",
    "subred = reddit.subreddit('personalfinance')"
   ]
  },
  {
   "cell_type": "markdown",
   "metadata": {},
   "source": [
    "See: https://praw.readthedocs.io/en/stable/code_overview/reddit_instance.html#praw.Reddit.info\n",
    "See: https://praw.readthedocs.io/en/stable/code_overview/models/submission.html#praw.models.Submission.fullname\n",
    "\n",
    "For some reason one row is skipped? Seems like an error occurs at 104607. The post by r/DoLifeBetter seems to be deleted from reddit, but was still on the pushshift database. "
   ]
  },
  {
   "cell_type": "code",
   "execution_count": 159,
   "metadata": {},
   "outputs": [
    {
     "name": "stdout",
     "output_type": "stream",
     "text": [
      "Downloaded score data in 2506.64 seconds\n"
     ]
    }
   ],
   "source": [
    "post_ids = ['t3_'+name for name in df['id'].values]\n",
    "tic = time.perf_counter()\n",
    "gen = reddit.info(post_ids)\n",
    "praw_score = []\n",
    "praw_author = []\n",
    "for i in gen:\n",
    "    praw_author.append(i.author)\n",
    "    praw_score.append(i.score)\n",
    "toc = time.perf_counter()\n",
    "print(f\"Downloaded score data in {toc - tic:0.2f} seconds\")"
   ]
  },
  {
   "cell_type": "markdown",
   "metadata": {},
   "source": [
    "Observe that the post by r/tropicalweeds should be in the 104608 position, but is in the 104607 position in the data from praw. We insert a score of 0 at the 104606 position, which thens shifts everything else appropriately."
   ]
  },
  {
   "cell_type": "code",
   "execution_count": 187,
   "metadata": {},
   "outputs": [
    {
     "data": {
      "text/plain": [
       "[Redditor(name='kuntpower'), None, Redditor(name='tropicalweeds'), None]"
      ]
     },
     "execution_count": 187,
     "metadata": {},
     "output_type": "execute_result"
    }
   ],
   "source": [
    "#[i for i in range(len(praw_author)) if df.author[i] != praw_author[i] and praw_author[i] != None]\n",
    "praw_author[104605:104609]"
   ]
  },
  {
   "cell_type": "code",
   "execution_count": 194,
   "metadata": {},
   "outputs": [
    {
     "data": {
      "text/plain": [
       "104605        kuntpower\n",
       "104606     DoLifeBetter\n",
       "104607         yipyip-1\n",
       "104608    tropicalweeds\n",
       "Name: author, dtype: object"
      ]
     },
     "execution_count": 194,
     "metadata": {},
     "output_type": "execute_result"
    }
   ],
   "source": [
    "df.author[104605:104609]"
   ]
  },
  {
   "cell_type": "code",
   "execution_count": 195,
   "metadata": {},
   "outputs": [],
   "source": [
    "praw_author2 = praw_author.insert(104606, 'None')"
   ]
  },
  {
   "cell_type": "code",
   "execution_count": 201,
   "metadata": {},
   "outputs": [
    {
     "data": {
      "text/plain": [
       "[Redditor(name='kuntpower'), 'None', None, Redditor(name='tropicalweeds')]"
      ]
     },
     "execution_count": 201,
     "metadata": {},
     "output_type": "execute_result"
    }
   ],
   "source": [
    "praw_author[104605:104609]"
   ]
  },
  {
   "cell_type": "code",
   "execution_count": 198,
   "metadata": {},
   "outputs": [],
   "source": [
    "praw_score2 = praw_score.copy()"
   ]
  },
  {
   "cell_type": "code",
   "execution_count": 199,
   "metadata": {},
   "outputs": [],
   "source": [
    "praw_score2.insert(104606,0)"
   ]
  },
  {
   "cell_type": "code",
   "execution_count": 202,
   "metadata": {},
   "outputs": [],
   "source": [
    "df['score'] = praw_score2"
   ]
  },
  {
   "cell_type": "markdown",
   "metadata": {},
   "source": [
    "The time of submission is presented in Unix time. We extract the associated date and time, and add the corresponding columns."
   ]
  },
  {
   "cell_type": "code",
   "execution_count": 206,
   "metadata": {},
   "outputs": [
    {
     "data": {
      "text/html": [
       "<div>\n",
       "<style scoped>\n",
       "    .dataframe tbody tr th:only-of-type {\n",
       "        vertical-align: middle;\n",
       "    }\n",
       "\n",
       "    .dataframe tbody tr th {\n",
       "        vertical-align: top;\n",
       "    }\n",
       "\n",
       "    .dataframe thead th {\n",
       "        text-align: right;\n",
       "    }\n",
       "</style>\n",
       "<table border=\"1\" class=\"dataframe\">\n",
       "  <thead>\n",
       "    <tr style=\"text-align: right;\">\n",
       "      <th></th>\n",
       "      <th>author</th>\n",
       "      <th>created_utc</th>\n",
       "      <th>id</th>\n",
       "      <th>num_comments</th>\n",
       "      <th>score</th>\n",
       "      <th>selftext</th>\n",
       "      <th>title</th>\n",
       "      <th>created</th>\n",
       "      <th>date</th>\n",
       "      <th>time</th>\n",
       "    </tr>\n",
       "  </thead>\n",
       "  <tbody>\n",
       "    <tr>\n",
       "      <th>0</th>\n",
       "      <td>DeadStarMan</td>\n",
       "      <td>1633060765</td>\n",
       "      <td>pz02c1</td>\n",
       "      <td>23</td>\n",
       "      <td>4</td>\n",
       "      <td>I'm getting a 15k cash settlement at age 29. \\...</td>\n",
       "      <td>How should I use my cash settlement?</td>\n",
       "      <td>1.633075e+09</td>\n",
       "      <td>2021-09-30</td>\n",
       "      <td>23:59:25</td>\n",
       "    </tr>\n",
       "    <tr>\n",
       "      <th>1</th>\n",
       "      <td>mojo3jojo</td>\n",
       "      <td>1633060323</td>\n",
       "      <td>pyzyav</td>\n",
       "      <td>45</td>\n",
       "      <td>0</td>\n",
       "      <td>I make about $2500 a month. I pay $816 per mon...</td>\n",
       "      <td>Can I afford a $35k car?</td>\n",
       "      <td>1.633075e+09</td>\n",
       "      <td>2021-09-30</td>\n",
       "      <td>23:52:03</td>\n",
       "    </tr>\n",
       "    <tr>\n",
       "      <th>2</th>\n",
       "      <td>PolarisSONE</td>\n",
       "      <td>1633060288</td>\n",
       "      <td>pyzy0b</td>\n",
       "      <td>5</td>\n",
       "      <td>2</td>\n",
       "      <td>Hi there, I have a 401K with Fidelity and I've...</td>\n",
       "      <td>Wanting to keep things simple, have a 401K and...</td>\n",
       "      <td>1.633075e+09</td>\n",
       "      <td>2021-09-30</td>\n",
       "      <td>23:51:28</td>\n",
       "    </tr>\n",
       "    <tr>\n",
       "      <th>3</th>\n",
       "      <td>CarWreckFiance</td>\n",
       "      <td>1633060269</td>\n",
       "      <td>pyzxv1</td>\n",
       "      <td>3</td>\n",
       "      <td>1</td>\n",
       "      <td>[removed]</td>\n",
       "      <td>Car wreck right before big move</td>\n",
       "      <td>1.633075e+09</td>\n",
       "      <td>2021-09-30</td>\n",
       "      <td>23:51:09</td>\n",
       "    </tr>\n",
       "    <tr>\n",
       "      <th>4</th>\n",
       "      <td>watchoutitstaco</td>\n",
       "      <td>1633060017</td>\n",
       "      <td>pyzvna</td>\n",
       "      <td>9</td>\n",
       "      <td>0</td>\n",
       "      <td>Hello pals!\\n\\n&amp;amp;#x200B;\\n\\nI'd like to hel...</td>\n",
       "      <td>How to pay off loans for my partner (is there ...</td>\n",
       "      <td>1.633074e+09</td>\n",
       "      <td>2021-09-30</td>\n",
       "      <td>23:46:57</td>\n",
       "    </tr>\n",
       "  </tbody>\n",
       "</table>\n",
       "</div>"
      ],
      "text/plain": [
       "            author  created_utc      id  num_comments  score  \\\n",
       "0      DeadStarMan   1633060765  pz02c1            23      4   \n",
       "1        mojo3jojo   1633060323  pyzyav            45      0   \n",
       "2      PolarisSONE   1633060288  pyzy0b             5      2   \n",
       "3   CarWreckFiance   1633060269  pyzxv1             3      1   \n",
       "4  watchoutitstaco   1633060017  pyzvna             9      0   \n",
       "\n",
       "                                            selftext  \\\n",
       "0  I'm getting a 15k cash settlement at age 29. \\...   \n",
       "1  I make about $2500 a month. I pay $816 per mon...   \n",
       "2  Hi there, I have a 401K with Fidelity and I've...   \n",
       "3                                          [removed]   \n",
       "4  Hello pals!\\n\\n&amp;#x200B;\\n\\nI'd like to hel...   \n",
       "\n",
       "                                               title       created  \\\n",
       "0               How should I use my cash settlement?  1.633075e+09   \n",
       "1                           Can I afford a $35k car?  1.633075e+09   \n",
       "2  Wanting to keep things simple, have a 401K and...  1.633075e+09   \n",
       "3                    Car wreck right before big move  1.633075e+09   \n",
       "4  How to pay off loans for my partner (is there ...  1.633074e+09   \n",
       "\n",
       "         date      time  \n",
       "0  2021-09-30  23:59:25  \n",
       "1  2021-09-30  23:52:03  \n",
       "2  2021-09-30  23:51:28  \n",
       "3  2021-09-30  23:51:09  \n",
       "4  2021-09-30  23:46:57  "
      ]
     },
     "execution_count": 206,
     "metadata": {},
     "output_type": "execute_result"
    }
   ],
   "source": [
    "import pytz\n",
    "from pytz import timezone\n",
    "eastern = timezone('US/Eastern')\n",
    "utc = pytz.utc\n",
    "df['date'] = [dt.datetime.fromtimestamp(unix_time, tz=eastern).date() for unix_time in df['created_utc']]\n",
    "df['time'] = [dt.datetime.fromtimestamp(unix_time, tz=eastern).time() for unix_time in df['created_utc']]\n",
    "df.head()"
   ]
  },
  {
   "cell_type": "markdown",
   "metadata": {},
   "source": [
    "We can then save the resulting data frame to a file."
   ]
  },
  {
   "cell_type": "code",
   "execution_count": 204,
   "metadata": {},
   "outputs": [],
   "source": [
    "df2 = df[['id', 'author', 'title', 'selftext' ,'time', 'date', 'score', 'num_comments']]"
   ]
  },
  {
   "cell_type": "markdown",
   "metadata": {},
   "source": [
    "Make train test split, with 90% of entries in the training set"
   ]
  },
  {
   "cell_type": "code",
   "execution_count": 16,
   "metadata": {},
   "outputs": [],
   "source": [
    "train = df2.sample(frac=0.9, random_state=42).copy()\n",
    "test = df2.drop(train.index).copy()\n",
    "train.to_pickle(\"./data/train.pkl\")\n",
    "test.to_pickle(\"./data/test.pkl\")"
   ]
  },
  {
   "cell_type": "markdown",
   "metadata": {},
   "source": [
    "# User Data Collection\n",
    "\n",
    "We shall augment the data with user data. In particular, for each post, we want to extract the following:\n",
    "\n",
    "* When the author created their account\n",
    "* The number of comments the author had made prior to the post\n",
    "* The number of submissions the author had made prior to the post\n",
    "* The max and median scores of the author's comments prior to the post\n",
    "* The max and median scores of the author's submissions prior to the post\n",
    "\n",
    "The account age and number of comments/submissions serve as an indicator of a user's engagement/experience with Reddit, with the hypothesis that more engaged/experienced users are more likely to write posts that gain traction. A high maximum score of previous comments/submissions indicates they're capable of authoring viral content, and the median score indicates their usual performance.\n",
    "\n",
    "\n",
    "The Reddit API provides access to the user's current karma, as well as whether the user has verified their email, is a mod, a Reddit employee, has gold, etc. These are tempting sources of information, but unfortunately, we want to restrict our predictive data to that available at the time of posting. Indeed, a redditor's karma dramatically increases when their post goes viral.\n",
    "\n",
    "Loading libraries:"
   ]
  },
  {
   "cell_type": "code",
   "execution_count": 1,
   "metadata": {},
   "outputs": [],
   "source": [
    "import numpy as np\n",
    "import pandas as pd # data manipulation\n",
    "import praw # Python Reddit API Wrapper\n",
    "import time # see how long it takes\n",
    "import datetime # working with datetimes\n",
    "import statistics # get median"
   ]
  },
  {
   "cell_type": "markdown",
   "metadata": {},
   "source": [
    "Authentication with the Reddit API. Steps:\n",
    "* Create a reddit account.\n",
    "* Go to https://www.reddit.com/prefs/apps.\n",
    "* At the bottom, select create app, and fill out form accordingly (personal use)\n",
    "* Fill out the arguments of the below, using information from the app description"
   ]
  },
  {
   "cell_type": "code",
   "execution_count": null,
   "metadata": {},
   "outputs": [],
   "source": [
    "reddit = praw.Reddit(\n",
    "client_id=\"\", #appears at top of app description\n",
    "client_secret=\"\", # labeled as \"secret\" in app description\n",
    "password=\"\", # reddit account password here\n",
    "user_agent=\"Hello world\", # put whatever\n",
    "username=\"\" # reddit username here\n",
    ")"
   ]
  },
  {
   "cell_type": "markdown",
   "metadata": {},
   "source": [
    "If the above worked, the following code will produce your username and karma:"
   ]
  },
  {
   "cell_type": "code",
   "execution_count": null,
   "metadata": {},
   "outputs": [],
   "source": [
    "print(f'{reddit.user.me()} has {reddit.user.me().comment_karma} karma.')"
   ]
  },
  {
   "cell_type": "code",
   "execution_count": null,
   "metadata": {},
   "outputs": [],
   "source": [
    "df = pd.read_pickle('data/train.pkl')\n",
    "usernames = list(df['author'])\n",
    "date_created = list(df['date'])\n",
    "time_created = list(df['time'])\n",
    "df.head(10)"
   ]
  },
  {
   "cell_type": "markdown",
   "metadata": {},
   "source": [
    "Using the PRAW to extract information about the users. See https://praw.readthedocs.io/en/stable/code_overview/models/redditor.html. Unfortunately, the following block marches along at a crawl (over a second per user)."
   ]
  },
  {
   "cell_type": "code",
   "execution_count": null,
   "metadata": {},
   "outputs": [],
   "source": [
    "user_data = []\n",
    "tic = time.perf_counter()\n",
    "#for i in range(len(df)):\n",
    "for i in range(60000, len(df)):\n",
    "    username = usernames[i]\n",
    "    post_created_utc = post_created_utcs[i]\n",
    "    \n",
    "    user = reddit.redditor(username)\n",
    "    try:\n",
    "        created_utc = user.created_utc\n",
    "    except Exception:\n",
    "        created_utc = 'NA'\n",
    "\n",
    "    try:\n",
    "        previous_comment_scores = [comm.score for comm in user.comments.hot() if comm.created_utc < post_created_utc]\n",
    "    except Exception:\n",
    "        previous_comment_scores = []\n",
    "\n",
    "    num_previous_comments = len(previous_comment_scores)\n",
    "    if num_previous_comments > 0:\n",
    "        median_comment_scores = np.nanmedian(previous_comment_scores)\n",
    "        max_comment_scores = max(previous_comment_scores, default=0)\n",
    "    else:\n",
    "        median_comment_scores = 'NA'\n",
    "        max_comment_scores = 'NA'\n",
    "\n",
    "    try:        \n",
    "        previous_submission_scores = [sub.score for sub in user.submissions.hot() if sub.created_utc < post_created_utc]\n",
    "    except Exception:\n",
    "        previous_submission_scores = []\n",
    "\n",
    "    num_previous_submissions = len(previous_submission_scores)\n",
    "\n",
    "    if num_previous_submissions > 0:\n",
    "        median_submission_scores = np.nanmedian(previous_submission_scores)\n",
    "        max_submission_scores =  max(previous_submission_scores, default=0)\n",
    "    else:\n",
    "        median_submission_scores = 'NA'\n",
    "        max_submission_scores = 'NA'\n",
    "    user_data.append([username, created_utc, num_previous_comments, median_comment_scores, max_comment_scores, num_previous_submissions,\n",
    "                     median_submission_scores, max_submission_scores])\n",
    "    if i % 10 == 0:\n",
    "        toc = time.perf_counter()\n",
    "        print(f\"{i}/{len(df)} Elapsed time: {np.round(toc-tic,2)} seconds\")"
   ]
  },
  {
   "cell_type": "code",
   "execution_count": null,
   "metadata": {},
   "outputs": [],
   "source": [
    "user_df = pd.DataFrame(user_data, columns = ['Author','Created', 'nComments', 'medianCommentScore', 'maxCommentScore', \n",
    "                                             'nSubmissions', 'medianSubmissionScore', 'maxSubmissionScore'])\n",
    "user_df.head(50)"
   ]
  },
  {
   "cell_type": "code",
   "execution_count": null,
   "metadata": {},
   "outputs": [],
   "source": [
    "len(user_df)"
   ]
  },
  {
   "cell_type": "code",
   "execution_count": null,
   "metadata": {},
   "outputs": [],
   "source": [
    "user_df.to_pickle('./data/personal_finance_user_data_60000_end.pkl')"
   ]
  }
 ],
 "metadata": {
  "kernelspec": {
   "display_name": "Python 3",
   "language": "python",
   "name": "python3"
  },
  "language_info": {
   "codemirror_mode": {
    "name": "ipython",
    "version": 3
   },
   "file_extension": ".py",
   "mimetype": "text/x-python",
   "name": "python",
   "nbconvert_exporter": "python",
   "pygments_lexer": "ipython3",
   "version": "3.7.2"
  }
 },
 "nbformat": 4,
 "nbformat_minor": 2
}
